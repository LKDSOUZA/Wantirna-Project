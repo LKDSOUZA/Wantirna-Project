{
 "cells": [
  {
   "cell_type": "code",
   "execution_count": 12,
   "metadata": {},
   "outputs": [],
   "source": [
    "import csv\n",
    "import sqlite3"
   ]
  },
  {
   "cell_type": "code",
   "execution_count": 20,
   "metadata": {},
   "outputs": [],
   "source": [
    "with open('Resources/Melbourne_Housing_Market.csv', 'r') as csvfile:\n",
    "    csvreader = csv.reader(csvfile)\n",
    "    conn = sqlite3.connect('Resources/Mel_housing_market_DB.sqlite')\n",
    "    c = conn.cursor()\n",
    "    c.execute('''DROP TABLE Mel_housing_market''')\n",
    "        \n",
    "    c.execute('''CREATE TABLE Mel_housing_market ('Id' numeric primary key, 'Address' text, 'Suburb' text, 'Rooms' numeric, 'Type' text, 'Price' numeric, 'Method' text, 'SellerG' text, 'Date' date , 'Distance' float, 'Postcode' numeric, 'Bedroom2' numeric, 'Bathroom' numeric, 'Car' numeric, 'Landsize' numeric, 'BuidingArea' numeric, 'YearBuilt' numeric, 'CouncilArea' numeric, 'Lattitude' real, 'Longtitude' real, 'Regionname' text, 'Propertycount' numeric)''')\n",
    "    for row in csvreader:\n",
    "        c.execute(\"INSERT INTO Mel_housing_market VALUES (?, ?, ?, ?, ?, ?, ?, ?, ?, ?, ?, ?, ?, ?, ?, ?, ?, ?, ?, ?, ?, ?)\", row)\n",
    "    conn.commit()\n",
    "    csvfile.close()\n",
    "    conn.close()"
   ]
  },
  {
   "cell_type": "markdown",
   "metadata": {},
   "source": []
  },
  {
   "cell_type": "code",
   "execution_count": null,
   "metadata": {},
   "outputs": [],
   "source": []
  }
 ],
 "metadata": {
  "kernelspec": {
   "display_name": "Python 3 (ipykernel)",
   "language": "python",
   "name": "python3"
  },
  "language_info": {
   "codemirror_mode": {
    "name": "ipython",
    "version": 3
   },
   "file_extension": ".py",
   "mimetype": "text/x-python",
   "name": "python",
   "nbconvert_exporter": "python",
   "pygments_lexer": "ipython3",
   "version": "3.9.12"
  },
  "vscode": {
   "interpreter": {
    "hash": "45485928624bcc3946ac29e6bc161a1b011de23693eaff8c385c59ad163fe39c"
   }
  }
 },
 "nbformat": 4,
 "nbformat_minor": 2
}
